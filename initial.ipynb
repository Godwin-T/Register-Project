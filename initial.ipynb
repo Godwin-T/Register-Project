{
 "cells": [
  {
   "cell_type": "code",
   "execution_count": 1,
   "metadata": {},
   "outputs": [],
   "source": [
    "import mysql.connector\n",
    "from datetime import datetime"
   ]
  },
  {
   "cell_type": "code",
   "execution_count": 8,
   "metadata": {},
   "outputs": [],
   "source": [
    "class Database:\n",
    "\n",
    "    def __init__(self, hostname, username, password, database=None):\n",
    "\n",
    "        self.host = hostname\n",
    "        self.user = username\n",
    "        self.password = password\n",
    "        self.database = database\n",
    "\n",
    "\n",
    "    def connect_db(self):\n",
    "        mydb = mysql.connector.connect( host = self.host,\n",
    "                                        user = self.user,\n",
    "                                        passwd = self.password,\n",
    "                                        database = self.database\n",
    "                                        )\n",
    "        return mydb\n",
    "\n",
    "    \n",
    "\n",
    "    def create_db(self, name):\n",
    "        connection = Database.connect_db(self)\n",
    "        cursor = connection.cursor()\n",
    "        \n",
    "        cursor.execute(f\"CREATE DATABASE {name}\")\n",
    "        print('Database Created successfully')\n",
    "\n",
    "    def create_table(self, name, features, database = 'gracetouch'):\n",
    "\n",
    "        self.database = database\n",
    "        connection = Database.connect_db(self)\n",
    "        cursor = connection.cursor()\n",
    "        cursor.execute(f\"CREATE TABLE {name} {features}\")\n",
    "        print('Table created succeccfully')"
   ]
  },
  {
   "cell_type": "code",
   "execution_count": 9,
   "metadata": {},
   "outputs": [
    {
     "name": "stdout",
     "output_type": "stream",
     "text": [
      "Database Created successfully\n"
     ]
    }
   ],
   "source": [
    "host_name = 'localhost'\n",
    "user_name = 'root'\n",
    "password = 'Pattern'\n",
    "database_name =  'GraceTouch'\n",
    "\n",
    "db = Database(host_name, user_name, password)\n",
    "db.create_db(database_name)"
   ]
  },
  {
   "cell_type": "code",
   "execution_count": null,
   "metadata": {},
   "outputs": [],
   "source": [
    "new_connection = db.connect_db()\n",
    "cursor = new_connection.cursor()"
   ]
  },
  {
   "cell_type": "code",
   "execution_count": 3,
   "metadata": {},
   "outputs": [
    {
     "name": "stdout",
     "output_type": "stream",
     "text": [
      "Table created succeccfully\n"
     ]
    }
   ],
   "source": [
    "workers_info = \"(id int not null, name varchar(50), gender char(1), address varchar(30),\\\n",
    "                 position varchar(10), employment_date date, resumption_date date,\\\n",
    "                 salary_per_hr float, daily_work_hrs int, primary key (id))\"\n",
    "db.create_table(name = 'workers_info', features = workers_info)\n",
    "\n",
    "company_register = \"(id int not null, date date, name varchar(50), \\\n",
    "                     time_in time, time_out time, primary key (id))\"\n",
    "Database.create_table('register', company_register)"
   ]
  },
  {
   "cell_type": "code",
   "execution_count": 49,
   "metadata": {},
   "outputs": [],
   "source": [
    "def register_worker():\n",
    "\n",
    "    name = str(input('Enter your name: '))\n",
    "    gender = input('What is your gender: ')\n",
    "    address = input('Enter you address: ')\n",
    "    position = input('What is your position in the company')\n",
    "    employment_date = input(\"Enter your employment date: \")\n",
    "    resumption_date = input(\"Enter your resumption date: \")\n",
    "    salary_per_hr = input('Enter worker hourly pay: ')\n",
    "    daily_work_hrs = input('Enter work total work hours per day: ')\n",
    "\n",
    "    record = (name, gender, address, position, employment_date,\n",
    "                    resumption_date, salary_per_hr, daily_work_hrs)\n",
    "    cursor.execute(f\"insert into workers_info\\\n",
    "                    values{record}\")\n",
    "    new_connection.commit()\n",
    "    print(\"Successully added the worker's record\")\n",
    "\n",
    "def worker_val(dbname, id):\n",
    "\n",
    "    cursor.execute(f\"select * from {dbname}\")\n",
    "    myresult = cursor.fetchall()\n",
    "    workers_id = [x[0] for x in myresult]\n",
    "    if id in workers_id:\n",
    "        return ('pass')\n",
    "    else:\n",
    "        reg = input('Will the worker be registered: ')\n",
    "        reg = reg.lower()\n",
    "\n",
    "        if reg=='yes':\n",
    "            new_input = register_worker()\n",
    "        else:\n",
    "            print('Individual not in company database')\n",
    "\n",
    "\n",
    "def signin_val(dbname, id):\n",
    "\n",
    "    date = datetime.today().strftime('%Y-%m-%d')\n",
    "    cursor.execute(f\"select * from {dbname} where date = '{date}'\")\n",
    "    myresult = cursor.fetchall()\n",
    "    workers_id = [x[0] for x in myresult]\n",
    "\n",
    "    if id in workers_id:\n",
    "        print('pass')\n",
    "       \n",
    "    else:\n",
    "        print('Individual did not sign in today')"
   ]
  },
  {
   "cell_type": "code",
   "execution_count": 50,
   "metadata": {},
   "outputs": [],
   "source": [
    "def sign_in():\n",
    "    \n",
    "    id = int(input('Enter your id: '))\n",
    "    validation = worker_val('register', id)\n",
    "\n",
    "    if validation =='pass':\n",
    "        date = datetime.today().strftime('%Y-%m-%d')\n",
    "        name = str(input('Enter your name: '))\n",
    "        \n",
    "        time_in =  datetime.today().strftime('%H:%M')\n",
    "        time_out = datetime.today().strftime('%H:%M')\n",
    "\n",
    "        record = (id, date, name, time_in, time_out)\n",
    "        cursor.execute(f\"insert into register \\\n",
    "                    values{record}\")\n",
    "\n",
    "        new_connection.commit()\n",
    "        print(\"Successully added the new record\")\n",
    "\n",
    "def sign_out():\n",
    "\n",
    "    id = int(input('Enter your id: '))\n",
    "    clock_out = signin_val('register', id)\n",
    "\n",
    "    if clock_out=='pass':\n",
    "        time = datetime.now().strftime('%H:%M')\n",
    "        query = f\"update register set \\\n",
    "                    time_out = '{time}' \\\n",
    "                    where id = {id}\"\n",
    "        cursor.execute(query)\n",
    "        new_connection.commit()\n",
    "        print(\"Successully updated the record\")"
   ]
  },
  {
   "cell_type": "code",
   "execution_count": 52,
   "metadata": {},
   "outputs": [
    {
     "name": "stdout",
     "output_type": "stream",
     "text": [
      "Individual not in company database\n"
     ]
    }
   ],
   "source": [
    "sign_in()"
   ]
  },
  {
   "cell_type": "code",
   "execution_count": 47,
   "metadata": {},
   "outputs": [],
   "source": [
    "def worker_val(dbname, id):\n",
    "\n",
    "    cursor.execute(f\"select * from {dbname}\")\n",
    "    myresult = cursor.fetchall()\n",
    "    workers_id = [x[0] for x in myresult]\n",
    "    print(workers_id)\n",
    "    if id in workers_id:\n",
    "        return ('pass')\n",
    "    # else:\n",
    "    #     reg = input('Will the worker be registered: ')\n",
    "    #     reg = reg.lower()\n",
    "\n",
    "    #     if reg=='yes':\n",
    "    #         new_input = register_worker()\n",
    "    #     else:\n",
    "    #         print('Individual not in company database')\n"
   ]
  },
  {
   "cell_type": "code",
   "execution_count": 48,
   "metadata": {},
   "outputs": [
    {
     "name": "stdout",
     "output_type": "stream",
     "text": [
      "[1, 2]\n"
     ]
    },
    {
     "data": {
      "text/plain": [
       "'pass'"
      ]
     },
     "execution_count": 48,
     "metadata": {},
     "output_type": "execute_result"
    }
   ],
   "source": [
    "worker_val('register', 1)"
   ]
  },
  {
   "cell_type": "code",
   "execution_count": null,
   "metadata": {},
   "outputs": [],
   "source": []
  }
 ],
 "metadata": {
  "kernelspec": {
   "display_name": "Python 3.9.13 ('Tensorflow')",
   "language": "python",
   "name": "python3"
  },
  "language_info": {
   "codemirror_mode": {
    "name": "ipython",
    "version": 3
   },
   "file_extension": ".py",
   "mimetype": "text/x-python",
   "name": "python",
   "nbconvert_exporter": "python",
   "pygments_lexer": "ipython3",
   "version": "3.9.13"
  },
  "orig_nbformat": 4,
  "vscode": {
   "interpreter": {
    "hash": "a2031be23302a6f80daad80b84b83a86f535e1c11907b65b4c4b25f3c409004f"
   }
  }
 },
 "nbformat": 4,
 "nbformat_minor": 2
}
