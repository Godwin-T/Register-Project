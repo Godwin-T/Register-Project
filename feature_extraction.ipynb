{
 "cells": [
  {
   "cell_type": "markdown",
   "metadata": {},
   "source": [
    "Detecting Corners with Harris corners detection"
   ]
  },
  {
   "cell_type": "code",
   "execution_count": null,
   "metadata": {},
   "outputs": [],
   "source": [
    "import cv2\n",
    "import numpy as np\n",
    "img = cv2.imread('box.jpg')\n",
    "gray = cv2.cvtColor(img,cv2.COLOR_BGR2GRAY)\n",
    "gray = np.float32(gray)\n",
    "dst = cv2.cornerHarris(gray, 4,5, 0.04) # to detect only sharp corners\n",
    "dst = cv2.cornerHarris(gray, 14, 5, 0.04) # to detect soft corners\n",
    "\n",
    "# Result is dilated for marking the corners\n",
    "dst = cv2.dilate(dst,None)\n",
    "# Threshold for an optimal value, it may vary depending on the image.\n",
    "img[dst > 0.01*dst.max()] = [0,0,0]\n",
    "cv2.imshow('Harris Corners',img)\n",
    "cv2.waitKey()"
   ]
  },
  {
   "attachments": {},
   "cell_type": "markdown",
   "metadata": {},
   "source": [
    "Detecting Corners with Shi-Tomasi detector(Different scoring function was used)"
   ]
  },
  {
   "cell_type": "code",
   "execution_count": null,
   "metadata": {},
   "outputs": [],
   "source": [
    "import cv2\n",
    "import numpy as np\n",
    "img = cv2.imread('box.jpg')\n",
    "gray = cv2.cvtColor(img,cv2.COLOR_BGR2GRAY)\n",
    "corners = cv2.goodFeaturesToTrack(gray, 7, 0.05, 25)\n",
    "corners = np.float32(corners)\n",
    "\n",
    "for item in corners:\n",
    " x, y = item[0]\n",
    " cv2.circle(img, (x,y), 5, 255, -1)\n",
    "cv2.imshow(\"Top 'k' features\", img)\n",
    "cv2.waitKey()"
   ]
  },
  {
   "attachments": {},
   "cell_type": "markdown",
   "metadata": {},
   "source": [
    "SIFT"
   ]
  },
  {
   "attachments": {},
   "cell_type": "markdown",
   "metadata": {},
   "source": [
    "import cv2\n",
    "import numpy as np\n",
    "input_image = cv2.imread('input.jpg')\n",
    "gray_image = cv2.cvtColor(input_image, cv2.COLOR_BGR2GRAY)\n",
    "sift = cv2.SIFT()\n",
    "keypoints = sift.detect(gray_image, None)\n",
    "input_image = cv2.drawKeypoints(input_image, keypoints, \n",
    "flags=cv2.DRAW_MATCHES_FLAGS_DRAW_RICH_KEYPOINTS)\n",
    "cv2.imshow('SIFT features', input_image)\n",
    "cv2.waitKey()"
   ]
  },
  {
   "attachments": {},
   "cell_type": "markdown",
   "metadata": {},
   "source": [
    "SURF"
   ]
  },
  {
   "attachments": {},
   "cell_type": "markdown",
   "metadata": {},
   "source": [
    "import cv2\n",
    "import numpy as np\n",
    "img = cv2.imread('input.jpg')\n",
    "gray= cv2.cvtColor(img, cv2.COLOR_BGR2GRAY)\n",
    "surf = cv2.SURF()\n",
    "# This threshold controls the number of keypoints\n",
    "surf.hessianThreshold = 15000\n",
    "kp, des = surf.detectAndCompute(gray, None)\n",
    "img = cv2.drawKeypoints(img, kp, None, (0,255,0), 4)\n",
    "cv2.imshow('SURF features', img)\n",
    "cv2.waitKey()"
   ]
  },
  {
   "attachments": {},
   "cell_type": "markdown",
   "metadata": {},
   "source": [
    "FAST"
   ]
  },
  {
   "attachments": {},
   "cell_type": "markdown",
   "metadata": {},
   "source": [
    "import cv2\n",
    "import numpy as np\n",
    "gray_image = cv2.imread('input.jpg', 0)\n",
    "fast = cv2.FastFeatureDetector()\n",
    "# Detect keypoints\n",
    "keypoints = fast.detect(gray_image, None)\n",
    "print \"Number of keypoints with non max suppression:\", \n",
    "len(keypoints)\n",
    "# Draw keypoints on top of the input image\n",
    "img_keypoints_with_nonmax = cv2.drawKeypoints(gray_image, \n",
    "                            keypoints, color=(0,255,0))\n",
    "cv2.imshow('FAST keypoints - with non max suppression', \n",
    "            img_keypoints_with_nonmax)\n",
    "# Disable nonmaxSuppression\n",
    "fast.setBool('nonmaxSuppression', False)\n",
    "# Detect keypoints again\n",
    "keypoints = fast.detect(gray_image, None\n",
    "\n",
    "print \"Total Keypoints without nonmaxSuppression:\", \n",
    "len(keypoints)\n",
    "# Draw keypoints on top of the input image\n",
    "img_keypoints_without_nonmax = cv2.drawKeypoints(gray_image, \n",
    "                                    keypoints, color=(0,255,0))\n",
    "cv2.imshow('FAST keypoints - without non max suppression', \n",
    "                                    img_keypoints_without_nonmax)\n",
    "cv2.waitKey()"
   ]
  }
 ],
 "metadata": {
  "kernelspec": {
   "display_name": "Tensorflow",
   "language": "python",
   "name": "python3"
  },
  "language_info": {
   "codemirror_mode": {
    "name": "ipython",
    "version": 3
   },
   "file_extension": ".py",
   "mimetype": "text/x-python",
   "name": "python",
   "nbconvert_exporter": "python",
   "pygments_lexer": "ipython3",
   "version": "3.9.13"
  },
  "orig_nbformat": 4,
  "vscode": {
   "interpreter": {
    "hash": "a2031be23302a6f80daad80b84b83a86f535e1c11907b65b4c4b25f3c409004f"
   }
  }
 },
 "nbformat": 4,
 "nbformat_minor": 2
}
