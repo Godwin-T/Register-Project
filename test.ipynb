{
 "cells": [
  {
   "cell_type": "code",
   "execution_count": 8,
   "metadata": {},
   "outputs": [],
   "source": [
    "import database\n",
    "import register\n",
    "import cv2\n",
    "import keras"
   ]
  },
  {
   "cell_type": "code",
   "execution_count": 2,
   "metadata": {},
   "outputs": [
    {
     "name": "stdout",
     "output_type": "stream",
     "text": [
      "Database Created successfully\n"
     ]
    },
    {
     "data": {
      "text/plain": [
       "<mysql.connector.connection_cext.CMySQLConnection at 0x1755e110a00>"
      ]
     },
     "execution_count": 2,
     "metadata": {},
     "output_type": "execute_result"
    }
   ],
   "source": [
    "host_name = 'localhost'\n",
    "user_name = 'root'\n",
    "password = 'Pattern'\n",
    "database_name =  'DARK'\n",
    "\n",
    "\n",
    "db = database.Database(host_name, user_name, password)\n",
    "db.create_db(database_name)\n",
    "db.connect_db(database_name)"
   ]
  },
  {
   "cell_type": "code",
   "execution_count": 11,
   "metadata": {},
   "outputs": [
    {
     "name": "stdout",
     "output_type": "stream",
     "text": [
      "Table created succeccfully\n",
      "Table created succeccfully\n"
     ]
    }
   ],
   "source": [
    "variables = \"(id int not null, name varchar(50), gender char(6), address varchar(30),\\\n",
    "                position varchar(20), employment_date date, resumption_date date,\\\n",
    "                salary_per_hr float, daily_work_hrs int, primary key (id))\"\n",
    "db.create_table(name = 'workers_info', features = variables, database = 'dark')\n",
    "\n",
    "company_register = \"(id int not null, date date, name varchar(50), \\\n",
    "                     time_in time, time_out time)\"\n",
    "db.create_table(name = 'register', features = company_register, database = 'dark')\n",
    "\n",
    "new_connection = db.connect_db(database_name)\n",
    "cursor = new_connection.cursor(buffered=True)"
   ]
  },
  {
   "cell_type": "code",
   "execution_count": 4,
   "metadata": {},
   "outputs": [
    {
     "name": "stderr",
     "output_type": "stream",
     "text": [
      "c:\\Users\\Godwin\\.conda\\envs\\Tensorflow\\lib\\site-packages\\keras\\layers\\core\\lambda_layer.py:327: UserWarning: inception_resnet_v1 is not loaded, but a Lambda layer uses it. It may cause errors.\n",
      "  function = cls._parse_function_from_config(\n"
     ]
    },
    {
     "name": "stdout",
     "output_type": "stream",
     "text": [
      "WARNING:tensorflow:No training configuration found in the save file, so the model was *not* compiled. Compile it manually.\n"
     ]
    }
   ],
   "source": [
    "def model(path, classifier_path):\n",
    "    frmodel = keras.models.load_model(path)\n",
    "    classifier = cv2.CascadeClassifier(classifier_path)\n",
    "    return frmodel, classifier\n",
    "\n",
    "\n",
    "model_path = './converted.h5'\n",
    "classifier_path = \"C:/Users/Godwin/Documents/Workflow/opencv/chapter3/\\\n",
    "                    3923_04/cameo/cascades/haarcascade_frontalface_alt.xml\"\n",
    "\n",
    "frmodel, classifier = model(model_path, classifier_path)\n",
    "woker_cls = register.worker(new_connection,cursor,frmodel, classifier)"
   ]
  },
  {
   "cell_type": "code",
   "execution_count": 12,
   "metadata": {},
   "outputs": [
    {
     "name": "stdout",
     "output_type": "stream",
     "text": [
      "1/1 [==============================] - 0s 406ms/step\n",
      "1/1 [==============================] - 0s 175ms/step\n",
      "1/1 [==============================] - 0s 47ms/step\n",
      "1/1 [==============================] - 0s 38ms/step\n",
      "1/1 [==============================] - 0s 34ms/step\n",
      "1/1 [==============================] - 0s 37ms/step\n",
      "1/1 [==============================] - 0s 37ms/step\n",
      "1/1 [==============================] - 0s 33ms/step\n",
      "1/1 [==============================] - 0s 94ms/step\n",
      "1/1 [==============================] - 0s 31ms/step\n",
      "2/2 [==============================] - 0s 12ms/step\n",
      "1/1 [==============================] - 0s 213ms/step\n",
      "(160, 160, 3)\n",
      "(1, 128)\n",
      "Successully added the worker's record\n"
     ]
    }
   ],
   "source": [
    "woker_cls = register.worker(new_connection,cursor,frmodel, classifier)\n",
    "woker_cls.register_worker()"
   ]
  },
  {
   "cell_type": "code",
   "execution_count": 14,
   "metadata": {},
   "outputs": [
    {
     "name": "stdout",
     "output_type": "stream",
     "text": [
      "1/1 [==============================] - 0s 182ms/step\n",
      "1/1 [==============================] - 0s 185ms/step\n",
      "1/1 [==============================] - 0s 39ms/step\n",
      "1/1 [==============================] - 0s 38ms/step\n",
      "1/1 [==============================] - 0s 38ms/step\n",
      "1/1 [==============================] - 0s 37ms/step\n",
      "1/1 [==============================] - 0s 35ms/step\n",
      "1/1 [==============================] - 0s 37ms/step\n",
      "1/1 [==============================] - 0s 31ms/step\n",
      "1/1 [==============================] - 0s 35ms/step\n",
      "3/3 [==============================] - 0s 9ms/step\n",
      "1/1 [==============================] - 0s 211ms/step\n",
      "(160, 160, 3)\n",
      "(1, 128)\n",
      "Successully updated the record\n"
     ]
    },
    {
     "data": {
      "image/png": "[encoded data removed]",
      "text/plain": [
       "<Figure size 640x480 with 1 Axes>"
      ]
     },
     "metadata": {},
     "output_type": "display_data"
    }
   ],
   "source": [
    "woker_cls.sign_out()"
   ]
  },
  {
   "cell_type": "code",
   "execution_count": null,
   "metadata": {},
   "outputs": [],
   "source": []
  }
 ],
 "metadata": {
  "kernelspec": {
   "display_name": "Python 3.9.13 ('Tensorflow')",
   "language": "python",
   "name": "python3"
  },
  "language_info": {
   "codemirror_mode": {
    "name": "ipython",
    "version": 3
   },
   "file_extension": ".py",
   "mimetype": "text/x-python",
   "name": "python",
   "nbconvert_exporter": "python",
   "pygments_lexer": "ipython3",
   "version": "3.9.13"
  },
  "orig_nbformat": 4,
  "vscode": {
   "interpreter": {
    "hash": "a2031be23302a6f80daad80b84b83a86f535e1c11907b65b4c4b25f3c409004f"
   }
  }
 },
 "nbformat": 4,
 "nbformat_minor": 2
}
